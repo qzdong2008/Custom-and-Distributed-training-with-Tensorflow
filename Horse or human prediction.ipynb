{
  "cells": [
    {
      "cell_type": "markdown",
      "metadata": {
        "id": "view-in-github",
        "colab_type": "text"
      },
      "source": [
        "<a href=\"https://colab.research.google.com/github/qzdong2008/Custom-and-Distributed-training-with-Tensorflow/blob/main/Horse%20or%20human%20prediction.ipynb\" target=\"_parent\"><img src=\"https://colab.research.google.com/assets/colab-badge.svg\" alt=\"Open In Colab\"/></a>"
      ]
    },
    {
      "cell_type": "markdown",
      "metadata": {
        "id": "_o7-7A_61Rrq"
      },
      "source": [
        "# Horse or Human? In-graph training loop Assignment\n",
        "\n",
        "This assignment lets you practice how to train a Keras model on the [horses_or_humans](https://www.tensorflow.org/datasets/catalog/horses_or_humans) dataset with the entire training process performed in graph mode.  These steps include:\n",
        "- loading batches\n",
        "- calculating gradients\n",
        "- updating parameters\n",
        "- calculating validation accuracy\n",
        "- repeating the loop until convergence"
      ]
    },
    {
      "cell_type": "markdown",
      "metadata": {
        "id": "n4EKOpw9mObL"
      },
      "source": [
        "## Setup\n",
        "\n",
        "Import TensorFlow 2.0:"
      ]
    },
    {
      "cell_type": "code",
      "execution_count": null,
      "metadata": {
        "id": "V9oECvVSI1Kj"
      },
      "outputs": [],
      "source": [
        "from __future__ import absolute_import, division, print_function, unicode_literals\n",
        "import numpy as np"
      ]
    },
    {
      "cell_type": "code",
      "execution_count": null,
      "metadata": {
        "id": "mT7meGqrZTz9"
      },
      "outputs": [],
      "source": [
        "import tensorflow as tf\n",
        "import tensorflow_datasets as tfds\n",
        "import tensorflow_hub as hub\n",
        "import matplotlib.pyplot as plt"
      ]
    },
    {
      "cell_type": "markdown",
      "metadata": {
        "id": "Em5dzSUOtLRP"
      },
      "source": [
        "### Prepare the dataset\n",
        "\n",
        "Load the horses to human dataset, splitting 80% for the training set and 20% for the test set."
      ]
    },
    {
      "cell_type": "code",
      "execution_count": null,
      "metadata": {
        "id": "CtuEXbu21Rrw"
      },
      "outputs": [],
      "source": [
        "splits, info = tfds.load('horses_or_humans', as_supervised=True, with_info=True, split=['train[:80%]', 'train[80%:]', 'test'], data_dir='./data')\n",
        "\n",
        "(train_examples, validation_examples, test_examples) = splits\n",
        "\n",
        "num_examples = info.splits['train'].num_examples\n",
        "num_classes = info.features['label'].num_classes"
      ]
    },
    {
      "cell_type": "code",
      "execution_count": null,
      "metadata": {
        "id": "cJdruxxGhBi5"
      },
      "outputs": [],
      "source": [
        "BATCH_SIZE = 32\n",
        "IMAGE_SIZE = 224"
      ]
    },
    {
      "cell_type": "markdown",
      "metadata": {
        "id": "Wf5ppFDM1Rry"
      },
      "source": [
        "## Pre-process an image (please complete this section)\n",
        "\n",
        "You'll define a mapping function that resizes the image to a height of 224 by 224, and normalizes the pixels to the range of 0 to 1.  Note that pixels range from 0 to 255.\n",
        "\n",
        "- You'll use the following function: [tf.image.resize](https://www.tensorflow.org/api_docs/python/tf/image/resize) and pass in the (height,width) as a tuple (or list).\n",
        "- To normalize, divide by a floating value so that the pixel range changes from [0,255] to [0,1]."
      ]
    },
    {
      "cell_type": "code",
      "execution_count": null,
      "metadata": {
        "id": "qpQi4Jo9cFq0"
      },
      "outputs": [],
      "source": [
        "# Create a autograph pre-processing function to resize and normalize an image\n",
        "### START CODE HERE ###\n",
        "@tf.function\n",
        "def map_fn(img, label):\n",
        "    image_height = 224\n",
        "    image_width = 224\n",
        "### START CODE HERE ###\n",
        "    # resize the image\n",
        "    img = tf.image.resize(img,(image_height,image_width))\n",
        "    # normalize the image\n",
        "    img /= 255.0\n",
        "### END CODE HERE\n",
        "    return img, label"
      ]
    },
    {
      "cell_type": "code",
      "execution_count": null,
      "metadata": {
        "id": "G0PKu9rE1Rrz",
        "outputId": "fd5532b1-e952-46ef-c02a-47691118cec7"
      },
      "outputs": [
        {
          "name": "stdout",
          "output_type": "stream",
          "text": [
            "(224, 224, 3)\n",
            "()\n"
          ]
        }
      ],
      "source": [
        "## TEST CODE:\n",
        "\n",
        "test_image, test_label = list(train_examples)[0]\n",
        "\n",
        "test_result = map_fn(test_image, test_label)\n",
        "\n",
        "print(test_result[0].shape)\n",
        "print(test_result[1].shape)\n",
        "\n",
        "del test_image, test_label, test_result"
      ]
    },
    {
      "cell_type": "markdown",
      "metadata": {
        "id": "E9f_m6SG1Rr0"
      },
      "source": [
        "**Expected Output:**\n",
        "\n",
        "```\n",
        "(224, 224, 3)\n",
        "()\n",
        "```"
      ]
    },
    {
      "cell_type": "markdown",
      "metadata": {
        "id": "yqNJ2hlV1Rr0"
      },
      "source": [
        "## Apply pre-processing to the datasets (please complete this section)\n",
        "\n",
        "Apply the following steps to the training_examples:\n",
        "- Apply the `map_fn` to the training_examples\n",
        "- Shuffle the training data using `.shuffle(buffer_size=)` and set the buffer size to the number of examples.\n",
        "- Group these into batches using `.batch()` and set the batch size given by the parameter.\n",
        "\n",
        "Hint: You can look at how validation_examples and test_examples are pre-processed to get a sense of how to chain together multiple function calls."
      ]
    },
    {
      "cell_type": "code",
      "execution_count": null,
      "metadata": {
        "id": "sv5bEYhaeUUO"
      },
      "outputs": [],
      "source": [
        "# Prepare train dataset by using preprocessing with map_fn, shuffling and batching\n",
        "def prepare_dataset(train_examples, validation_examples, test_examples, num_examples, map_fn, batch_size):\n",
        "    ### START CODE HERE ###\n",
        "    train_ds = train_examples.map(map_fn).shuffle(buffer_size=len(list(train_examples))).batch(batch_size)\n",
        "    ### END CODE HERE ###\n",
        "    valid_ds = validation_examples.map(map_fn).batch(batch_size)\n",
        "    test_ds = test_examples.map(map_fn).batch(batch_size)\n",
        "    \n",
        "    return train_ds, valid_ds, test_ds"
      ]
    },
    {
      "cell_type": "code",
      "execution_count": null,
      "metadata": {
        "id": "mVRKwRRW1Rr1"
      },
      "outputs": [],
      "source": [
        "train_ds, valid_ds, test_ds = prepare_dataset(train_examples, validation_examples, test_examples, num_examples, map_fn, BATCH_SIZE)"
      ]
    },
    {
      "cell_type": "code",
      "execution_count": null,
      "metadata": {
        "id": "Qf1NFRcc1Rr2",
        "outputId": "ebf034b8-4872-4199-e745-055d7a4d77ee"
      },
      "outputs": [
        {
          "name": "stdout",
          "output_type": "stream",
          "text": [
            "26\n",
            "(32, 224, 224, 3)\n"
          ]
        }
      ],
      "source": [
        "## TEST CODE:\n",
        "\n",
        "test_train_ds = list(train_ds)\n",
        "print(len(test_train_ds))\n",
        "print(test_train_ds[0][0].shape)\n",
        "\n",
        "del test_train_ds"
      ]
    },
    {
      "cell_type": "markdown",
      "metadata": {
        "id": "yQ1JaiqQ1Rr2"
      },
      "source": [
        "**Expected Output:**\n",
        "\n",
        "```\n",
        "26\n",
        "(32, 224, 224, 3)\n",
        "```"
      ]
    },
    {
      "cell_type": "markdown",
      "metadata": {
        "id": "znmy4l8ntMvW"
      },
      "source": [
        "### Define the model"
      ]
    },
    {
      "cell_type": "code",
      "execution_count": null,
      "metadata": {
        "id": "ltxyJVWTqNAO",
        "outputId": "94e13eec-5544-450d-fa2e-ed624d338ce2"
      },
      "outputs": [
        {
          "name": "stdout",
          "output_type": "stream",
          "text": [
            "Model: \"sequential\"\n",
            "_________________________________________________________________\n",
            "Layer (type)                 Output Shape              Param #   \n",
            "=================================================================\n",
            "keras_layer (KerasLayer)     (None, 2048)              23561152  \n",
            "_________________________________________________________________\n",
            "dense (Dense)                (None, 2)                 4098      \n",
            "=================================================================\n",
            "Total params: 23,565,250\n",
            "Trainable params: 4,098\n",
            "Non-trainable params: 23,561,152\n",
            "_________________________________________________________________\n"
          ]
        }
      ],
      "source": [
        "MODULE_HANDLE = 'data/resnet_50_feature_vector'\n",
        "model = tf.keras.Sequential([\n",
        "    hub.KerasLayer(MODULE_HANDLE, input_shape=(IMAGE_SIZE, IMAGE_SIZE, 3)),\n",
        "    tf.keras.layers.Dense(num_classes, activation='softmax')\n",
        "])\n",
        "model.summary()"
      ]
    },
    {
      "cell_type": "markdown",
      "metadata": {
        "id": "Ikb79EzkjpPk"
      },
      "source": [
        "## Define optimizer: (please complete these sections)\n",
        "Define the [Adam optimizer](https://www.tensorflow.org/api_docs/python/tf/keras/optimizers/Adam) that is in the tf.keras.optimizers module."
      ]
    },
    {
      "cell_type": "code",
      "execution_count": null,
      "metadata": {
        "id": "EO8O6n4m1Rr3"
      },
      "outputs": [],
      "source": [
        "def set_adam_optimizer():\n",
        "    ### START CODE HERE ###\n",
        "    # Define the adam optimizer\n",
        "    optimizer = tf.keras.optimizers.Adam()\n",
        "    ### END CODE HERE ###\n",
        "    return optimizer"
      ]
    },
    {
      "cell_type": "code",
      "execution_count": null,
      "metadata": {
        "id": "K44KJJ991Rr3",
        "outputId": "d7422f8a-4b48-42e4-c038-904801b21bbe"
      },
      "outputs": [
        {
          "name": "stdout",
          "output_type": "stream",
          "text": [
            "<class 'tensorflow.python.keras.optimizer_v2.adam.Adam'>\n"
          ]
        }
      ],
      "source": [
        "## TEST CODE:\n",
        "\n",
        "test_optimizer = set_adam_optimizer()\n",
        "\n",
        "print(type(test_optimizer))\n",
        "\n",
        "del test_optimizer"
      ]
    },
    {
      "cell_type": "markdown",
      "metadata": {
        "id": "EgXsDgUu1Rr3"
      },
      "source": [
        "**Expected Output:**\n",
        "```\n",
        "<class 'tensorflow.python.keras.optimizer_v2.adam.Adam'>\n",
        "```"
      ]
    },
    {
      "cell_type": "markdown",
      "metadata": {
        "id": "q4gB4we_1Rr4"
      },
      "source": [
        "## Define the loss function (please complete this section)\n",
        "\n",
        "Define the loss function as the [sparse categorical cross entropy](https://www.tensorflow.org/api_docs/python/tf/keras/losses/SparseCategoricalCrossentropy) that's in the tf.keras.losses module.  Use the same function for both training and validation."
      ]
    },
    {
      "cell_type": "code",
      "execution_count": null,
      "metadata": {
        "id": "EEAHrqoJ1Rr4"
      },
      "outputs": [],
      "source": [
        "def set_sparse_cat_crossentropy_loss():\n",
        "    ### START CODE HERE ###\n",
        "    # Define object oriented metric of Sparse categorical crossentropy for train and val loss\n",
        "    train_loss = tf.keras.losses.SparseCategoricalCrossentropy()\n",
        "    val_loss = tf.keras.losses.SparseCategoricalCrossentropy()\n",
        "    ### END CODE HERE ###\n",
        "    return train_loss, val_loss"
      ]
    },
    {
      "cell_type": "code",
      "execution_count": null,
      "metadata": {
        "id": "AOIbItd31Rr4",
        "outputId": "1d39ddfe-a5cb-4a3b-cc4e-7b19af9bd4b0"
      },
      "outputs": [
        {
          "name": "stdout",
          "output_type": "stream",
          "text": [
            "<class 'tensorflow.python.keras.losses.SparseCategoricalCrossentropy'>\n",
            "<class 'tensorflow.python.keras.losses.SparseCategoricalCrossentropy'>\n"
          ]
        }
      ],
      "source": [
        "## TEST CODE:\n",
        "\n",
        "test_train_loss, test_val_loss = set_sparse_cat_crossentropy_loss()\n",
        "\n",
        "print(type(test_train_loss))\n",
        "print(type(test_val_loss))\n",
        "\n",
        "del test_train_loss, test_val_loss"
      ]
    },
    {
      "cell_type": "markdown",
      "metadata": {
        "id": "6dih97Yo1Rr4"
      },
      "source": [
        "**Expected Output:**\n",
        "```\n",
        "<class 'tensorflow.python.keras.losses.SparseCategoricalCrossentropy'>\n",
        "<class 'tensorflow.python.keras.losses.SparseCategoricalCrossentropy'>\n",
        "```"
      ]
    },
    {
      "cell_type": "markdown",
      "metadata": {
        "id": "77sRR8H21Rr4"
      },
      "source": [
        "## Define the acccuracy function (please complete this section)\n",
        "Define the accuracy function as the [spare categorical accuracy](https://www.tensorflow.org/api_docs/python/tf/keras/metrics/SparseCategoricalAccuracy) that's contained in the tf.keras.metrics module.   Use the same function for both training and validation."
      ]
    },
    {
      "cell_type": "code",
      "execution_count": null,
      "metadata": {
        "id": "huAY_AtH1Rr5"
      },
      "outputs": [],
      "source": [
        "def set_sparse_cat_crossentropy_accuracy():\n",
        "    ### START CODE HERE ###\n",
        "    # Define object oriented metric of Sparse categorical accuracy for train and val accuracy\n",
        "    train_accuracy = tf.keras.metrics.SparseCategoricalAccuracy()\n",
        "    val_accuracy = tf.keras.metrics.SparseCategoricalAccuracy()\n",
        "    ### END CODE HERE ###\n",
        "    return train_accuracy, val_accuracy"
      ]
    },
    {
      "cell_type": "code",
      "execution_count": null,
      "metadata": {
        "id": "_3RsFBbj1Rr5",
        "outputId": "c04d9450-58fd-451c-8e56-ec226fcb7b2b"
      },
      "outputs": [
        {
          "name": "stdout",
          "output_type": "stream",
          "text": [
            "<class 'tensorflow.python.keras.metrics.SparseCategoricalAccuracy'>\n",
            "<class 'tensorflow.python.keras.metrics.SparseCategoricalAccuracy'>\n"
          ]
        }
      ],
      "source": [
        "## TEST CODE:\n",
        "\n",
        "test_train_accuracy, test_val_accuracy = set_sparse_cat_crossentropy_accuracy()\n",
        "\n",
        "print(type(test_train_accuracy))\n",
        "print(type(test_val_accuracy))\n",
        "\n",
        "del test_train_accuracy, test_val_accuracy"
      ]
    },
    {
      "cell_type": "markdown",
      "metadata": {
        "id": "6qx854rS1Rr5"
      },
      "source": [
        "**Expected Output:**\n",
        "```\n",
        "<class 'tensorflow.python.keras.metrics.SparseCategoricalAccuracy'>\n",
        "<class 'tensorflow.python.keras.metrics.SparseCategoricalAccuracy'>\n",
        "```"
      ]
    },
    {
      "cell_type": "markdown",
      "metadata": {
        "id": "dqaIIE981Rr5"
      },
      "source": [
        "Call the three functions that you defined to set the optimizer, loss and accuracy"
      ]
    },
    {
      "cell_type": "code",
      "execution_count": null,
      "metadata": {
        "id": "j92oDYGCjnBh"
      },
      "outputs": [],
      "source": [
        "optimizer = set_adam_optimizer()\n",
        "train_loss, val_loss = set_sparse_cat_crossentropy_loss()\n",
        "train_accuracy, val_accuracy = set_sparse_cat_crossentropy_accuracy()"
      ]
    },
    {
      "cell_type": "markdown",
      "metadata": {
        "id": "oeYV6mKnJGMr"
      },
      "source": [
        "### Define the training loop (please complete this section)\n",
        "\n",
        "In the training loop:\n",
        "- Get the model predictions: use the model, passing in the input `x`\n",
        "- Get the training loss: Call `train_loss`, passing in the true `y` and the predicted `y`.\n",
        "- Calculate the gradient of the loss with respect to the model's variables: use `tape.gradient` and pass in the loss and the model's `trainable_variables`.\n",
        "- Optimize the model variables using the gradients: call `optimizer.apply_gradients` and pass in a `zip()` of the two lists: the gradients and the model's `trainable_variables`.\n",
        "- Calculate accuracy: Call `train_accuracy`, passing in the true `y` and the predicted `y`."
      ]
    },
    {
      "cell_type": "code",
      "execution_count": null,
      "metadata": {
        "id": "3xtg_MMhJETd"
      },
      "outputs": [],
      "source": [
        "# this code uses the GPU if available, otherwise uses a CPU\n",
        "device = '/gpu:0' if tf.config.list_physical_devices('GPU') else '/cpu:0'\n",
        "EPOCHS = 2\n",
        "\n",
        "# Custom training step\n",
        "def train_one_step(model, optimizer, x, y, train_loss, train_accuracy):\n",
        "    '''\n",
        "    Trains on a batch of images for one step.\n",
        "    \n",
        "    Args:\n",
        "        model (keras Model) -- image classifier\n",
        "        optimizer (keras Optimizer) -- optimizer to use during training\n",
        "        x (Tensor) -- training images\n",
        "        y (Tensor) -- training labels\n",
        "        train_loss (keras Loss) -- loss object for training\n",
        "        train_accuracy (keras Metric) -- accuracy metric for training\n",
        "    '''\n",
        "    with tf.GradientTape() as tape:\n",
        "    ### START CODE HERE ###\n",
        "        # Run the model on input x to get predictions\n",
        "        predictions = model(x)\n",
        "        # Compute the training loss using `train_loss`, passing in the true y and the predicted y\n",
        "        loss = train_loss(y, predictions)\n",
        "\n",
        "    # Using the tape and loss, compute the gradients on model variables using tape.gradient\n",
        "    grads = tape.gradient(loss, model.trainable_variables)\n",
        "    \n",
        "    # Zip the gradients and model variables, and then apply the result on the optimizer\n",
        "    optimizer.apply_gradients(zip(grads,model.trainable_variables))\n",
        "\n",
        "    # Call the train accuracy object on ground truth and predictions\n",
        "    train_accuracy(y,predictions)\n",
        "    ### END CODE HERE\n",
        "    return loss"
      ]
    },
    {
      "cell_type": "code",
      "execution_count": null,
      "metadata": {
        "id": "pKwniZ0O1Rr6",
        "outputId": "e1e06da2-1a85-4d0e-cd7c-df8f6708a35b"
      },
      "outputs": [
        {
          "name": "stdout",
          "output_type": "stream",
          "text": [
            "tf.Tensor(0.6931472, shape=(), dtype=float32)\n"
          ]
        }
      ],
      "source": [
        "## TEST CODE:\n",
        "\n",
        "def base_model():\n",
        "    inputs = tf.keras.layers.Input(shape=(2))\n",
        "    x = tf.keras.layers.Dense(64, activation='relu')(inputs)\n",
        "    outputs = tf.keras.layers.Dense(1, activation='sigmoid')(x)\n",
        "    model = tf.keras.Model(inputs=inputs, outputs=outputs)\n",
        "    return model\n",
        "\n",
        "test_model = base_model()\n",
        "\n",
        "test_optimizer = set_adam_optimizer()\n",
        "test_image = tf.ones((2,2))\n",
        "test_label = tf.ones((1,))\n",
        "test_train_loss, _ = set_sparse_cat_crossentropy_loss()\n",
        "test_train_accuracy, _ = set_sparse_cat_crossentropy_accuracy()\n",
        "\n",
        "test_result = train_one_step(test_model, test_optimizer, test_image, test_label, test_train_loss, test_train_accuracy)\n",
        "print(test_result)\n",
        "\n",
        "del test_result, test_model, test_optimizer, test_image, test_label, test_train_loss, test_train_accuracy"
      ]
    },
    {
      "cell_type": "markdown",
      "metadata": {
        "id": "iY-lWMHQ1Rr6"
      },
      "source": [
        "**Expected Output:**\n",
        "\n",
        "You will see a Tensor with the same shape and dtype. The value might be different.\n",
        "\n",
        "```\n",
        "tf.Tensor(0.6931472, shape=(), dtype=float32)\n",
        "```"
      ]
    },
    {
      "cell_type": "markdown",
      "metadata": {
        "id": "fMWup5bS1Rr6"
      },
      "source": [
        "## Define the 'train' function (please complete this section)\n",
        "\n",
        "You'll first loop through the training batches to train the model. (Please complete these sections)\n",
        "- The `train` function will use a for loop to iteratively call the `train_one_step` function that you just defined.\n",
        "- You'll use `tf.print` to print the step number, loss, and train_accuracy.result() at each step.  Remember to use tf.print when you plan to generate autograph code.\n",
        "\n",
        "Next, you'll loop through the batches of the validation set to calculation the validation loss and validation accuracy. (This code is provided for you).  At each iteration of the loop:\n",
        "- Use the model to predict on x, where x is the input from the validation set.\n",
        "- Use val_loss to calculate the validation loss between the true validation 'y' and predicted y.\n",
        "- Use val_accuracy to calculate the accuracy of the predicted y compared to the true y.\n",
        "\n",
        "Finally, you'll print the validation loss and accuracy using tf.print. (Please complete this section)\n",
        "- print the final `loss`, which is the validation loss calculated by the last loop through the validation dataset.\n",
        "- Also print the val_accuracy.result().\n",
        "\n",
        "**HINT**\n",
        "If you submit your assignment and see this error for your stderr output: \n",
        "```\n",
        "Cannot convert 1e-07 to EagerTensor of dtype int64\n",
        "```\n",
        "Please check your calls to train_accuracy and val_accuracy to make sure that you pass in the true and predicted values in the correct order (check the documentation to verify the order of parameters)."
      ]
    },
    {
      "cell_type": "code",
      "execution_count": null,
      "metadata": {
        "id": "RxH7qX6N1Rr7"
      },
      "outputs": [],
      "source": [
        "# Decorate this function with tf.function to enable autograph on the training loop\n",
        "@tf.function\n",
        "def train(model, optimizer, epochs, device, train_ds, train_loss, train_accuracy, valid_ds, val_loss, val_accuracy):\n",
        "    '''\n",
        "    Performs the entire training loop. Prints the loss and accuracy per step and epoch.\n",
        "    \n",
        "    Args:\n",
        "        model (keras Model) -- image classifier\n",
        "        optimizer (keras Optimizer) -- optimizer to use during training\n",
        "        epochs (int) -- number of epochs\n",
        "        train_ds (tf Dataset) -- the train set containing image-label pairs\n",
        "        train_loss (keras Loss) -- loss function for training\n",
        "        train_accuracy (keras Metric) -- accuracy metric for training\n",
        "        valid_ds (Tensor) -- the val set containing image-label pairs\n",
        "        val_loss (keras Loss) -- loss object for validation\n",
        "        val_accuracy (keras Metric) -- accuracy metric for validation\n",
        "    '''\n",
        "    step = 0\n",
        "    loss = 0.0\n",
        "    for epoch in range(epochs):\n",
        "        for x, y in train_ds:\n",
        "            # training step number increments at each iteration\n",
        "            step += 1\n",
        "            with tf.device(device_name=device):\n",
        "                ### START CODE HERE ###\n",
        "                # Run one training step by passing appropriate model parameters\n",
        "                # required by the function and finally get the loss to report the results\n",
        "                loss = train_one_step(model, optimizer, x, y, train_loss, train_accuracy)\n",
        "                ### END CODE HERE ###\n",
        "            # Use tf.print to report your results.\n",
        "            # Print the training step number, loss and accuracy\n",
        "            tf.print('Step', step, \n",
        "                   ': train loss', loss, \n",
        "                   '; train accuracy', train_accuracy.result())\n",
        "\n",
        "        with tf.device(device_name=device):\n",
        "            for x, y in valid_ds:\n",
        "                # Call the model on the batches of inputs x and get the predictions\n",
        "                y_pred = model(x)\n",
        "                loss = val_loss(y, y_pred)\n",
        "                val_accuracy(y, y_pred)\n",
        "        \n",
        "        # Print the validation loss and accuracy\n",
        "        ### START CODE HERE ###\n",
        "        tf.print('val loss', loss, '; val accuracy', val_accuracy.result())\n",
        "        ### END CODE HERE ###"
      ]
    },
    {
      "cell_type": "markdown",
      "metadata": {
        "id": "1kHdzrMf1Rr7"
      },
      "source": [
        "Run the `train` function to train your model! You should see the loss generally decreasing and the accuracy increasing.\n",
        "\n",
        "**Note**: **Please let the training finish before submitting** and **do not** modify the next cell. It is required for grading. This will take around 5 minutes to run. "
      ]
    },
    {
      "cell_type": "code",
      "execution_count": null,
      "metadata": {
        "graded": true,
        "id": "6iDWgg977wb9",
        "name": "train",
        "outputId": "8b302426-062b-48b4-d252-3286e4393514"
      },
      "outputs": [
        {
          "name": "stdout",
          "output_type": "stream",
          "text": [
            "Step 1 : train loss 0.00599678839 ; train accuracy 0.957040548\n",
            "Step 2 : train loss 0.00378652243 ; train accuracy 0.957845449\n",
            "Step 3 : train loss 0.00319514377 ; train accuracy 0.958620667\n",
            "Step 4 : train loss 0.00367936282 ; train accuracy 0.959367931\n",
            "Step 5 : train loss 0.00386388646 ; train accuracy 0.96008867\n",
            "Step 6 : train loss 0.00518471841 ; train accuracy 0.960784316\n",
            "Step 7 : train loss 0.00419685198 ; train accuracy 0.96145612\n",
            "Step 8 : train loss 0.00236997101 ; train accuracy 0.962105274\n",
            "Step 9 : train loss 0.0027114118 ; train accuracy 0.962732911\n",
            "Step 10 : train loss 0.00355007127 ; train accuracy 0.963340104\n",
            "Step 11 : train loss 0.00280888868 ; train accuracy 0.963927865\n",
            "Step 12 : train loss 0.00220071687 ; train accuracy 0.964497\n",
            "Step 13 : train loss 0.00311851688 ; train accuracy 0.965048552\n",
            "Step 14 : train loss 0.0247976184 ; train accuracy 0.965105176\n",
            "Step 15 : train loss 0.00509437872 ; train accuracy 0.965630889\n",
            "Step 16 : train loss 0.00325775775 ; train accuracy 0.966141\n",
            "Step 17 : train loss 0.00355579099 ; train accuracy 0.966636181\n",
            "Step 18 : train loss 0.00348958676 ; train accuracy 0.967117131\n",
            "Step 19 : train loss 0.0045664357 ; train accuracy 0.967584372\n",
            "Step 20 : train loss 0.0029056631 ; train accuracy 0.968038499\n",
            "Step 21 : train loss 0.00408053352 ; train accuracy 0.96848011\n",
            "Step 22 : train loss 0.00317514 ; train accuracy 0.968909681\n",
            "Step 23 : train loss 0.00329619437 ; train accuracy 0.969327748\n",
            "Step 24 : train loss 0.00239698519 ; train accuracy 0.969734669\n",
            "Step 25 : train loss 0.00212035747 ; train accuracy 0.97013092\n",
            "Step 26 : train loss 0.00282584759 ; train accuracy 0.970397413\n",
            "val loss 0.0031555146 ; val accuracy 1\n",
            "Step 27 : train loss 0.00315131666 ; train accuracy 0.970776618\n",
            "Step 28 : train loss 0.00187342032 ; train accuracy 0.971146226\n",
            "Step 29 : train loss 0.00266115111 ; train accuracy 0.971506655\n",
            "Step 30 : train loss 0.0201850981 ; train accuracy 0.971858144\n",
            "Step 31 : train loss 0.00561905466 ; train accuracy 0.972201049\n",
            "Step 32 : train loss 0.00379815744 ; train accuracy 0.972535729\n",
            "Step 33 : train loss 0.00211538188 ; train accuracy 0.972862482\n",
            "Step 34 : train loss 0.00263261516 ; train accuracy 0.973181486\n",
            "Step 35 : train loss 0.0029293769 ; train accuracy 0.973493099\n",
            "Step 36 : train loss 0.00283967052 ; train accuracy 0.97379756\n",
            "Step 37 : train loss 0.00286502577 ; train accuracy 0.974095106\n",
            "Step 38 : train loss 0.00224209181 ; train accuracy 0.974386\n",
            "Step 39 : train loss 0.00328798871 ; train accuracy 0.974670351\n",
            "Step 40 : train loss 0.00190251623 ; train accuracy 0.974948525\n",
            "Step 41 : train loss 0.00411722064 ; train accuracy 0.975220621\n",
            "Step 42 : train loss 0.00217857584 ; train accuracy 0.975486875\n",
            "Step 43 : train loss 0.00208825152 ; train accuracy 0.975747526\n",
            "Step 44 : train loss 0.00191757875 ; train accuracy 0.976002634\n",
            "Step 45 : train loss 0.00172664598 ; train accuracy 0.976252437\n",
            "Step 46 : train loss 0.00224143639 ; train accuracy 0.976497114\n",
            "Step 47 : train loss 0.00296678627 ; train accuracy 0.976736784\n",
            "Step 48 : train loss 0.0049224589 ; train accuracy 0.976971626\n",
            "Step 49 : train loss 0.00181872444 ; train accuracy 0.97720176\n",
            "Step 50 : train loss 0.00368776685 ; train accuracy 0.977427363\n",
            "Step 51 : train loss 0.00154566823 ; train accuracy 0.977648497\n",
            "Step 52 : train loss 0.0013114207 ; train accuracy 0.977798045\n",
            "val loss 0.00256881327 ; val accuracy 1\n"
          ]
        }
      ],
      "source": [
        "train(model, optimizer, EPOCHS, device, train_ds, train_loss, train_accuracy, valid_ds, val_loss, val_accuracy)"
      ]
    },
    {
      "cell_type": "markdown",
      "metadata": {
        "id": "N8m3iJgx7SV1"
      },
      "source": [
        "# Evaluation\n",
        "\n",
        "You can now see how your model performs on test images. First, let's load the test dataset and generate predictions:"
      ]
    },
    {
      "cell_type": "code",
      "execution_count": null,
      "metadata": {
        "id": "HwFx4Nbh25p5"
      },
      "outputs": [],
      "source": [
        "test_imgs = []\n",
        "test_labels = []\n",
        "\n",
        "predictions = []\n",
        "with tf.device(device_name=device):\n",
        "    for images, labels in test_ds:\n",
        "        preds = model(images)\n",
        "        preds = preds.numpy()\n",
        "        predictions.extend(preds)\n",
        "\n",
        "        test_imgs.extend(images.numpy())\n",
        "        test_labels.extend(labels.numpy())"
      ]
    },
    {
      "cell_type": "markdown",
      "metadata": {
        "id": "HabMbUJ21Rr8"
      },
      "source": [
        "Let's define a utility function for plotting an image and its prediction."
      ]
    },
    {
      "cell_type": "code",
      "execution_count": null,
      "metadata": {
        "cellView": "form",
        "id": "IiutdErSpRH_"
      },
      "outputs": [],
      "source": [
        "# Utilities for plotting\n",
        "\n",
        "class_names = ['horse', 'human']\n",
        "\n",
        "def plot_image(i, predictions_array, true_label, img):\n",
        "    predictions_array, true_label, img = predictions_array[i], true_label[i], img[i]\n",
        "    plt.grid(False)\n",
        "    plt.xticks([])\n",
        "    plt.yticks([])\n",
        "\n",
        "    img = np.squeeze(img)\n",
        "\n",
        "    plt.imshow(img, cmap=plt.cm.binary)\n",
        "\n",
        "    predicted_label = np.argmax(predictions_array)\n",
        "    \n",
        "    # green-colored annotations will mark correct predictions. red otherwise.\n",
        "    if predicted_label == true_label:\n",
        "        color = 'green'\n",
        "    else:\n",
        "        color = 'red'\n",
        "    \n",
        "    # print the true label first\n",
        "    print(true_label)\n",
        "  \n",
        "    # show the image and overlay the prediction\n",
        "    plt.xlabel(\"{} {:2.0f}% ({})\".format(class_names[predicted_label],\n",
        "                                100*np.max(predictions_array),\n",
        "                                class_names[true_label]),\n",
        "                                color=color)\n",
        "\n"
      ]
    },
    {
      "cell_type": "markdown",
      "metadata": {
        "id": "fl2ayaMB1Rr8"
      },
      "source": [
        "### Plot the result of a single image\n",
        "\n",
        "Choose an index and display the model's prediction for that image."
      ]
    },
    {
      "cell_type": "code",
      "execution_count": null,
      "metadata": {
        "cellView": "form",
        "id": "aVknjW4A11uz",
        "outputId": "5abb986a-bb6c-4a15-a7a9-e56c6cfc87d7"
      },
      "outputs": [
        {
          "name": "stdout",
          "output_type": "stream",
          "text": [
            "0\n"
          ]
        },
        {
          "data": {
            "image/png": "[encoded data removed]",
            "text/plain": [
              "<Figure size 432x216 with 1 Axes>"
            ]
          },
          "metadata": {},
          "output_type": "display_data"
        }
      ],
      "source": [
        "# Visualize the outputs \n",
        "\n",
        "# you can modify the index value here from 0 to 255 to test different images\n",
        "index = 40\n",
        "plt.figure(figsize=(6,3))\n",
        "plt.subplot(1,2,1)\n",
        "plot_image(index, predictions, test_labels, test_imgs)\n",
        "plt.show()"
      ]
    },
    {
      "cell_type": "code",
      "execution_count": null,
      "metadata": {
        "id": "sWnIJDP41Rr9"
      },
      "outputs": [],
      "source": [
        ""
      ]
    }
  ],
  "metadata": {
    "coursera": {
      "schema_names": [
        "TF3C2W3-1",
        "TF3C2W3-2",
        "TF3C2W3-3",
        "TF3C2W3-4",
        "TF3C2W3-5",
        "TF3C2W3-6",
        "TF3C2W3-7"
      ]
    },
    "jupytext": {
      "encoding": "# -*- coding: utf-8 -*-"
    },
    "kernelspec": {
      "display_name": "Python 3",
      "language": "python",
      "name": "python3"
    },
    "language_info": {
      "codemirror_mode": {
        "name": "ipython",
        "version": 3
      },
      "file_extension": ".py",
      "mimetype": "text/x-python",
      "name": "python",
      "nbconvert_exporter": "python",
      "pygments_lexer": "ipython3",
      "version": "3.7.6"
    },
    "colab": {
      "name": "C2W3_Assignment.ipynb",
      "provenance": [],
      "include_colab_link": true
    }
  },
  "nbformat": 4,
  "nbformat_minor": 0
}